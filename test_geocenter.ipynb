{
 "cells": [
  {
   "cell_type": "code",
   "execution_count": 30,
   "metadata": {},
   "outputs": [],
   "source": [
    "import os\n",
    "from PIL import Image, ImageDraw, ImageFont\n",
    "import tqdm"
   ]
  },
  {
   "cell_type": "code",
   "execution_count": 31,
   "metadata": {},
   "outputs": [
    {
     "name": "stdout",
     "output_type": "stream",
     "text": [
      "having 72 labels\n",
      "C:\\Users\\Simone\\Desktop\\BG15Foto\\test_FranzOffice\\793-1\\16233.txt\n"
     ]
    }
   ],
   "source": [
    "dir_path = r'C:\\Users\\Simone\\Desktop\\BG15Foto\\test_FranzOffice\\793-1'\n",
    "label_list = [f for f in os.listdir(dir_path) if f.endswith('.txt')]\n",
    "print(f'having {len(label_list)} labels')\n",
    "label_dir_list = []\n",
    "for label in label_list:\n",
    "    label_dir = os.path.join(dir_path, label)\n",
    "    if os.path.exists(label_dir):\n",
    "        label_dir_list.append(label_dir)\n",
    "\n",
    "print(label_dir_list[0])"
   ]
  },
  {
   "cell_type": "code",
   "execution_count": 32,
   "metadata": {},
   "outputs": [
    {
     "name": "stdout",
     "output_type": "stream",
     "text": [
      "{0: [3, 0.418283, 0.207257, 0.518012, 0.191674, 0.519438, 0.163971, 0.412938, 0.181455], 1: [5, 0.783685, 0.329449, 0.782331, 0.295138, 0.750535, 0.287846, 0.751492, 0.326386], 2: [3, 0.882936, 0.300734, 0.88597, 0.291037, 0.863779, 0.278283, 0.861921, 0.289672], 3: [4, 0.738484, 0.561389, 0.76929, 0.544725, 0.769176, 0.508369, 0.736946, 0.530198], 4: [3, 0.296851, 0.268729, 0.28773, 0.241792, 0.383999, 0.187815, 0.387048, 0.218497], 5: [3, 0.884499, 0.239022, 0.882535, 0.210526, 0.834064, 0.181715, 0.837946, 0.217773]}\n"
     ]
    }
   ],
   "source": [
    "categoryIndex_short = [  'SDT',          'ABT',         'FEX',     'LGT',\n",
    "                         'PLUG',          'SWT',         'CAM']   \n",
    "import plot \n",
    "\n",
    "dict_temp = plot.readText(label_dir_list[0])\n",
    "print(dict_temp)\n",
    "\n"
   ]
  },
  {
   "cell_type": "code",
   "execution_count": 33,
   "metadata": {},
   "outputs": [
    {
     "name": "stdout",
     "output_type": "stream",
     "text": [
      "{0: ['LGT', 0.4672, 0.1861], 1: ['SWT', 0.767, 0.3097], 2: ['LGT', 0.8737, 0.2899], 3: ['PLUG', 0.7535, 0.5362], 4: ['LGT', 0.3389, 0.2292], 5: ['LGT', 0.8598, 0.2123]}\n"
     ]
    }
   ],
   "source": [
    "def calculate_mass_center(coords):\n",
    "    x_coords = coords[::2]\n",
    "    y_coords = coords[1::2]\n",
    "    xc = sum(x_coords) / len(x_coords)\n",
    "    yc = sum(y_coords) / len(y_coords)\n",
    "    xc_round = round(xc, 4)\n",
    "    yc_round = round(yc, 4)\n",
    "    return xc_round, yc_round\n",
    "\n",
    "def createNewDictForMassCenter(dict_temp):\n",
    "    new_dict = {}\n",
    "    for key, value in dict_temp.items():\n",
    "        category = categoryIndex_short[value[0]]\n",
    "        coords = value[1:]\n",
    "        xc, yc = calculate_mass_center(coords)\n",
    "        new_dict[key] = [category, xc, yc]\n",
    "    return new_dict\n",
    "\n",
    "new_dict = createNewDictForMassCenter(dict_temp)\n",
    "print(new_dict)"
   ]
  },
  {
   "cell_type": "code",
   "execution_count": 34,
   "metadata": {},
   "outputs": [
    {
     "name": "stderr",
     "output_type": "stream",
     "text": [
      "100%|██████████| 72/72 [00:00<00:00, 1605.06it/s]\n"
     ]
    }
   ],
   "source": [
    "output_dir = os.path.join(dir_path, 'output')\n",
    "os.makedirs(output_dir, exist_ok=True)\n",
    "for i in tqdm.tqdm(range(len(label_dir_list))):\n",
    "    label_dir_temp = label_dir_list[i]\n",
    "    dict_temp = plot.readText(label_dir_temp)\n",
    "    new_dict = createNewDictForMassCenter(dict_temp)\n",
    "    output_file = os.path.join(output_dir, os.path.basename(label_dir_temp))\n",
    "    with open(output_file, 'w') as f:\n",
    "        for key, value in new_dict.items():\n",
    "            f.write(f'{value[0]} {value[1]} {value[2]}\\n')"
   ]
  }
 ],
 "metadata": {
  "kernelspec": {
   "display_name": "yolo",
   "language": "python",
   "name": "python3"
  },
  "language_info": {
   "codemirror_mode": {
    "name": "ipython",
    "version": 3
   },
   "file_extension": ".py",
   "mimetype": "text/x-python",
   "name": "python",
   "nbconvert_exporter": "python",
   "pygments_lexer": "ipython3",
   "version": "3.7.16"
  }
 },
 "nbformat": 4,
 "nbformat_minor": 2
}
